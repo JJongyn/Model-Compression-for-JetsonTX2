{
 "cells": [
  {
   "cell_type": "code",
   "execution_count": 1,
   "id": "30f67c58-a43f-4c6e-97e4-1fce3306f96c",
   "metadata": {},
   "outputs": [],
   "source": [
    "from utils.data import DataLoader\n",
    "from utils.utils import *"
   ]
  },
  {
   "cell_type": "code",
   "execution_count": 2,
   "id": "5300d3ad-0c2f-4eda-950c-e9428ae729c4",
   "metadata": {},
   "outputs": [
    {
     "name": "stdout",
     "output_type": "stream",
     "text": [
      "./config/test.yaml\n",
      "<_io.TextIOWrapper name='./config/test.yaml' mode='r' encoding='UTF-8'>\n",
      "Downloading https://www.cs.toronto.edu/~kriz/cifar-10-python.tar.gz to ../data/cifar-10-python.tar.gz\n"
     ]
    },
    {
     "data": {
      "application/json": {
       "ascii": false,
       "bar_format": null,
       "colour": null,
       "elapsed": 0.010282278060913086,
       "initial": 0,
       "n": 0,
       "ncols": null,
       "nrows": 36,
       "postfix": null,
       "prefix": "",
       "rate": null,
       "total": 170498071,
       "unit": "it",
       "unit_divisor": 1000,
       "unit_scale": false
      },
      "application/vnd.jupyter.widget-view+json": {
       "model_id": "c9af939a907342459d349c6de66b1372",
       "version_major": 2,
       "version_minor": 0
      },
      "text/plain": [
       "  0%|          | 0/170498071 [00:00<?, ?it/s]"
      ]
     },
     "metadata": {},
     "output_type": "display_data"
    },
    {
     "name": "stdout",
     "output_type": "stream",
     "text": [
      "Extracting ../data/cifar-10-python.tar.gz to ../data\n",
      "Files already downloaded and verified\n"
     ]
    }
   ],
   "source": [
    "cfg = load_config(\"test.yaml\")\n",
    "\n",
    "train_loader, test_loader = DataLoader(cfg['batch_size'],\n",
    "                                       cfg['dataset'],\n",
    "                                       cfg['workers'],\n",
    "                                       cfg['data_path'],\n",
    "                                       cfg['cuda'])\n",
    "device = torch.device(\"cuda:0\" if torch.cuda.is_available() else \"cpu\")\n",
    "model = load_model(cfg, device)\n",
    "optimizer = get_optimizer(cfg, model)\n",
    "\n",
    "Trainer()"
   ]
  },
  {
   "cell_type": "code",
   "execution_count": null,
   "id": "71f08767-4abb-4092-8ad0-202cc32d4e0e",
   "metadata": {},
   "outputs": [],
   "source": []
  },
  {
   "cell_type": "code",
   "execution_count": null,
   "id": "f1fa6b4a-bbda-423a-9d67-064193a1a2e7",
   "metadata": {},
   "outputs": [],
   "source": []
  }
 ],
 "metadata": {
  "kernelspec": {
   "display_name": "Python 3 (ipykernel)",
   "language": "python",
   "name": "python3"
  },
  "language_info": {
   "codemirror_mode": {
    "name": "ipython",
    "version": 3
   },
   "file_extension": ".py",
   "mimetype": "text/x-python",
   "name": "python",
   "nbconvert_exporter": "python",
   "pygments_lexer": "ipython3",
   "version": "3.9.12"
  }
 },
 "nbformat": 4,
 "nbformat_minor": 5
}
